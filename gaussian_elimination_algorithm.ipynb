{
 "cells": [
  {
   "cell_type": "code",
   "execution_count": 2,
   "metadata": {
    "tags": [
     "graded"
    ]
   },
   "outputs": [],
   "source": [
    "import numpy as np"
   ]
  },
  {
   "cell_type": "code",
   "execution_count": 3,
   "metadata": {},
   "outputs": [],
   "source": [
    "import w2_unittest"
   ]
  },
  {
   "cell_type": "code",
   "execution_count": 4,
   "metadata": {
    "tags": [
     "graded"
    ]
   },
   "outputs": [],
   "source": [
    "def swap_rows(M, row_index_1, row_index_2):\n",
    "    \"\"\"\n",
    "    Swap rows in the given matrix.\n",
    "\n",
    "    Parameters:\n",
    "    - matrix (numpy.array): The input matrix to perform row swaps on.\n",
    "    - row_index_1 (int): Index of the first row to be swapped.\n",
    "    - row_index_2 (int): Index of the second row to be swapped.\n",
    "    \"\"\"\n",
    "\n",
    "    # Copy matrix M so the changes do not affect the original matrix. \n",
    "    M = M.copy()\n",
    "    # Swap indexes\n",
    "    M[[row_index_1, row_index_2]] = M[[row_index_2, row_index_1]]\n",
    "    return M"
   ]
  },
  {
   "cell_type": "code",
   "execution_count": 7,
   "metadata": {
    "tags": [
     "graded"
    ]
   },
   "outputs": [],
   "source": [
    "def get_index_first_non_zero_value_from_column(M, column, starting_row):\n",
    "    \"\"\"\n",
    "    Retrieve the index of the first non-zero value in a specified column of the given matrix.\n",
    "\n",
    "    Parameters:\n",
    "    - matrix (numpy.array): The input matrix to search for non-zero values.\n",
    "    - column (int): The index of the column to search.\n",
    "    - starting_row (int): The starting row index for the search.\n",
    "\n",
    "    Returns:\n",
    "    int: The index of the first non-zero value in the specified column, starting from the given row.\n",
    "                Returns -1 if no non-zero value is found.\n",
    "    \"\"\"\n",
    "    # Get the column array starting from the specified row\n",
    "    column_array = M[starting_row:,column]\n",
    "    for i, val in enumerate(column_array):\n",
    "        # Iterate over every value in the column array. \n",
    "        # To check for non-zero values, you must always use np.isclose instead of doing \"val == 0\".\n",
    "        if not np.isclose(val, 0, atol = 1e-5):\n",
    "            # If one non zero value is found, then adjust the index to match the correct index in the matrix and return it.\n",
    "            index = i + starting_row\n",
    "            return index\n",
    "    # If no non-zero value is found below it, return -1.\n",
    "    return -1"
   ]
  },
  {
   "cell_type": "code",
   "execution_count": 11,
   "metadata": {
    "tags": [
     "graded"
    ]
   },
   "outputs": [],
   "source": [
    "def get_index_first_non_zero_value_from_row(M, row, augmented = False):\n",
    "    \"\"\"\n",
    "    Find the index of the first non-zero value in the specified row of the given matrix.\n",
    "\n",
    "    Parameters:\n",
    "    - matrix (numpy.array): The input matrix to search for non-zero values.\n",
    "    - row (int): The index of the row to search.\n",
    "    - augmented (bool): Pass this True if you are dealing with an augmented matrix, \n",
    "                        so it will ignore the constant values (the last column in the augmented matrix).\n",
    "\n",
    "    Returns:\n",
    "    int: The index of the first non-zero value in the specified row.\n",
    "                Returns -1 if no non-zero value is found.\n",
    "    \"\"\"\n",
    "\n",
    "    # Create a copy to avoid modifying the original matrix\n",
    "    M = M.copy()\n",
    "\n",
    "\n",
    "    # If it is an augmented matrix, then ignore the constant values\n",
    "    if augmented == True:\n",
    "        # Isolating the coefficient matrix (removing the constant terms)\n",
    "        M = M[:,:-1]\n",
    "        \n",
    "    # Get the desired row\n",
    "    row_array = M[row]\n",
    "    for i, val in enumerate(row_array):\n",
    "        # If finds a non zero value, returns the index. Otherwise returns -1.\n",
    "        if not np.isclose(val, 0, atol = 1e-5):\n",
    "            return i\n",
    "    return -1"
   ]
  },
  {
   "cell_type": "code",
   "execution_count": 15,
   "metadata": {
    "tags": [
     "graded"
    ]
   },
   "outputs": [],
   "source": [
    "def augmented_matrix(A, B):\n",
    "    \"\"\"\n",
    "    Create an augmented matrix by horizontally stacking two matrices A and B.\n",
    "\n",
    "    Parameters:\n",
    "    - A (numpy.array): First matrix.\n",
    "    - B (numpy.array): Second matrix.\n",
    "\n",
    "    Returns:\n",
    "    - numpy.array: Augmented matrix obtained by horizontally stacking A and B.\n",
    "    \"\"\"\n",
    "    augmented_M = np.hstack((A,B))\n",
    "    return augmented_M"
   ]
  },
  {
   "cell_type": "code",
   "execution_count": 17,
   "metadata": {
    "tags": [
     "graded"
    ]
   },
   "outputs": [],
   "source": [
    "# GRADED FUNCTION: row_echelon_form\n",
    "\n",
    "def row_echelon_form(A, B):\n",
    "    \"\"\"\n",
    "    Utilizes elementary row operations to transform a given set of matrices, \n",
    "    which represent the coefficients and constant terms of a linear system, into row echelon form.\n",
    "\n",
    "    Parameters:\n",
    "    - A (numpy.array): The input square matrix of coefficients.\n",
    "    - B (numpy.array): The input column matrix of constant terms\n",
    "\n",
    "    Returns:\n",
    "    numpy.array: A new augmented matrix in row echelon form with pivots as 1.\n",
    "    \"\"\"\n",
    "    \n",
    "    # Before any computation, check if matrix A (coefficient matrix) has non-zero determinant. \n",
    "    # It will be used the numpy sub library np.linalg to compute it.\n",
    "\n",
    "    det_A = np.linalg.det(A)\n",
    "\n",
    "    # Returns \"Singular system\" if determinant is zero\n",
    "    if np.isclose(det_A, 0) == True:\n",
    "        return 'Singular system'\n",
    "\n",
    "    # Make copies of the input matrices to avoid modifying the originals\n",
    "    A = A.copy()\n",
    "    B = B.copy()\n",
    "\n",
    "\n",
    "    # Convert matrices to float to prevent integer division\n",
    "    A = A.astype('float64')\n",
    "    B = B.astype('float64')\n",
    "\n",
    "    # Number of rows in the coefficient matrix\n",
    "    num_rows = len(A) \n",
    "\n",
    "    ### START CODE HERE ###\n",
    "\n",
    "    # Transform matrices A and B into the augmented matrix M\n",
    "    M = augmented_matrix(A, B)\n",
    "    \n",
    "    # Iterate over the rows.\n",
    "    for row in range(num_rows):\n",
    "\n",
    "        # The first pivot candidate is always in the main diagonal, let's get it. \n",
    "        # Remember that the diagonal elements in a matrix has the same index for row and column. \n",
    "        # You may access a matrix value by typing M[row, column]. In this case, column = None\n",
    "        pivot_candidate = M[row, row]\n",
    "\n",
    "        # If pivot_candidate is zero, it cannot be a pivot for this row. \n",
    "        # So the first step you need to take is to look at the rows below it to check if there is a non-zero element in the same column.\n",
    "        # The usage of np.isclose is a good practice when comparing two floats.\n",
    "        if np.isclose(pivot_candidate, 0) == True: \n",
    "            # Get the index of the first non-zero value below the pivot_candidate. \n",
    "            first_non_zero_value_below_pivot_candidate = get_index_first_non_zero_value_from_column(M, row, row) \n",
    "\n",
    "            # Swap rows\n",
    "            M = swap_rows(M, row, first_non_zero_value_below_pivot_candidate) \n",
    "\n",
    "            # Get the pivot, which is in the main diagonal now \n",
    "            pivot = M[row,row] \n",
    "        \n",
    "        # If pivot_candidate is already non-zero, then it is the pivot for this row\n",
    "        else:\n",
    "            pivot = pivot_candidate \n",
    "        \n",
    "        # Now you are ready to apply the row reduction in every row below the current\n",
    "            \n",
    "        # Divide the current row by the pivot, so the new pivot will be 1. You may use the formula current_row -> 1/pivot * current_row\n",
    "        # Where current_row can be accessed using M[row].\n",
    "        M[row] = 1/pivot * M[row]\n",
    "\n",
    "        # Perform row reduction for rows below the current row\n",
    "        for j in range(row + 1, num_rows): \n",
    "            # Get the value in the row that is below the pivot value. \n",
    "            # Remember that, since you are dealing only with non-singular matrices, the pivot is in the main diagonal.\n",
    "            # Therefore, the values in row j that are below the pivot, must have column index the same index as the column index for the pivot.\n",
    "            value_below_pivot = M[j,row]\n",
    "            \n",
    "            # Perform row reduction using the formula:\n",
    "            # row_to_reduce -> row_to_reduce - value_below_pivot * pivot_row\n",
    "            M[j] = M[j] - value_below_pivot*M[row]\n",
    "            \n",
    "    ### END CODE HERE ###\n",
    "\n",
    "    return M\n",
    "            "
   ]
  },
  {
   "cell_type": "code",
   "execution_count": 25,
   "metadata": {
    "tags": [
     "graded"
    ]
   },
   "outputs": [],
   "source": [
    "# GRADED FUNCTION: back_substitution\n",
    "\n",
    "def back_substitution(M):\n",
    "    \"\"\"\n",
    "    Perform back substitution on an augmented matrix (with unique solution) in reduced row echelon form to find the solution to the linear system.\n",
    "\n",
    "    Parameters:\n",
    "    - M (numpy.array): The augmented matrix in row echelon form with unitary pivots (n x n+1).\n",
    "\n",
    "    Returns:\n",
    "    numpy.array: The solution vector of the linear system.\n",
    "    \"\"\"\n",
    "    \n",
    "    # Make a copy of the input matrix to avoid modifying the original\n",
    "    M = M.copy()\n",
    "\n",
    "    # Get the number of rows (and columns) in the matrix of coefficients\n",
    "    num_rows = M.shape[0]\n",
    "\n",
    "    ### START CODE HERE ####\n",
    "    \n",
    "    # Iterate from bottom to top\n",
    "    for row in reversed(range(num_rows)): \n",
    "        substitution_row = M[row]\n",
    "\n",
    "        # Get the index of the first non-zero element in the substitution row. Remember to pass the correct value to the argument augmented.\n",
    "        index = get_index_first_non_zero_value_from_row(M, row, True)\n",
    "\n",
    "        # Iterate over the rows above the substitution_row\n",
    "        for j in range(row): \n",
    "\n",
    "            # Get the row to be reduced. The indexing here is similar as above, with the row variable replaced by the j variable.\n",
    "            row_to_reduce = M[j]\n",
    "\n",
    "            # Get the value of the element at the found index in the row to reduce\n",
    "            value = row_to_reduce[index]\n",
    "            \n",
    "            # Perform the back substitution step using the formula row_to_reduce -> row_to_reduce - value * substitution_row\n",
    "            row_to_reduce = row_to_reduce - value * substitution_row\n",
    "\n",
    "            # Replace the updated row in the matrix, be careful with indexing!\n",
    "            M[j,:] = row_to_reduce\n",
    "\n",
    "    ### END CODE HERE ####\n",
    "\n",
    "     # Extract the solution from the last column\n",
    "    solution = M[:,-1]\n",
    "    \n",
    "    return solution"
   ]
  },
  {
   "cell_type": "code",
   "execution_count": 27,
   "metadata": {
    "tags": [
     "graded"
    ]
   },
   "outputs": [],
   "source": [
    "# GRADED FUNCTION: gaussian_elimination\n",
    "\n",
    "def gaussian_elimination(A, B):\n",
    "    \"\"\"\n",
    "    Solve a linear system represented by an augmented matrix using the Gaussian elimination method.\n",
    "\n",
    "    Parameters:\n",
    "    - A (numpy.array): Square matrix of size n x n representing the coefficients of the linear system\n",
    "    - B (numpy.array): Column matrix of size 1 x n representing the constant terms.\n",
    "\n",
    "    Returns:\n",
    "    numpy.array: The solution vector.\n",
    "    \"\"\"\n",
    "\n",
    "    ### START CODE HERE ###\n",
    "\n",
    "    # Get the matrix in row echelon form\n",
    "    row_echelon_M = row_echelon_form(A, B)\n",
    "\n",
    "    # Since the system is non-singular (by our assumptions), then perform back substitution to get the result. \n",
    "    solution = back_substitution(row_echelon_M)\n",
    "\n",
    "    ### END SOLUTION HERE ###\n",
    "\n",
    "    return solution\n",
    "        "
   ]
  },
  {
   "cell_type": "code",
   "execution_count": 29,
   "metadata": {},
   "outputs": [],
   "source": [
    "from utils import string_to_augmented_matrix"
   ]
  },
  {
   "cell_type": "code",
   "execution_count": 30,
   "metadata": {},
   "outputs": [
    {
     "name": "stdout",
     "output_type": "stream",
     "text": [
      "x = -1.5414\n",
      "y = -0.5223\n",
      "w = -0.1210\n",
      "z = 1.1855\n"
     ]
    }
   ],
   "source": [
    "equations = \"\"\"\n",
    "3*x + 6*y + 6*w + 8*z = 1\n",
    "5*x + 3*y + 6*w = -10\n",
    "4*y - 5*w + 8*z = 8\n",
    "4*w + 8*z = 9\n",
    "\"\"\"\n",
    "\n",
    "variables, A, B = string_to_augmented_matrix(equations)\n",
    "\n",
    "sols = gaussian_elimination(A, B)\n",
    "\n",
    "if not isinstance(sols, str):\n",
    "    for variable, solution in zip(variables.split(' '),sols):\n",
    "        print(f\"{variable} = {solution:.4f}\")\n",
    "else:\n",
    "    print(sols)"
   ]
  }
 ],
 "metadata": {
  "grader_version": "2",
  "kernelspec": {
   "display_name": "Python 3",
   "language": "python",
   "name": "python3"
  },
  "language_info": {
   "codemirror_mode": {
    "name": "ipython",
    "version": 3
   },
   "file_extension": ".py",
   "mimetype": "text/x-python",
   "name": "python",
   "nbconvert_exporter": "python",
   "pygments_lexer": "ipython3",
   "version": "3.8.8"
  }
 },
 "nbformat": 4,
 "nbformat_minor": 2
}
